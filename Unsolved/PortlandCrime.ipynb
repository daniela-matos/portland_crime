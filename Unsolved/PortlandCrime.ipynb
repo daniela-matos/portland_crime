{
 "cells": [
  {
   "cell_type": "code",
   "execution_count": 1,
   "metadata": {},
   "outputs": [],
   "source": [
    "# Import Dependencies\n",
    "import pandas as pd\n",
    "import os"
   ]
  },
  {
   "cell_type": "code",
   "execution_count": 2,
   "metadata": {},
   "outputs": [
    {
     "data": {
      "text/html": [
       "<div>\n",
       "<style scoped>\n",
       "    .dataframe tbody tr th:only-of-type {\n",
       "        vertical-align: middle;\n",
       "    }\n",
       "\n",
       "    .dataframe tbody tr th {\n",
       "        vertical-align: top;\n",
       "    }\n",
       "\n",
       "    .dataframe thead th {\n",
       "        text-align: right;\n",
       "    }\n",
       "</style>\n",
       "<table border=\"1\" class=\"dataframe\">\n",
       "  <thead>\n",
       "    <tr style=\"text-align: right;\">\n",
       "      <th></th>\n",
       "      <th>address</th>\n",
       "      <th>case_number</th>\n",
       "      <th>crime_against</th>\n",
       "      <th>neighborhood</th>\n",
       "      <th>number_of_records</th>\n",
       "      <th>occur_date</th>\n",
       "      <th>occur_month_year</th>\n",
       "      <th>occur_time</th>\n",
       "      <th>offense_category</th>\n",
       "      <th>offense_count</th>\n",
       "      <th>offense_type</th>\n",
       "      <th>open_data_lat</th>\n",
       "      <th>open_data_lon</th>\n",
       "      <th>open_data_x</th>\n",
       "      <th>open_data_y</th>\n",
       "      <th>report_date</th>\n",
       "      <th>report_month_year</th>\n",
       "    </tr>\n",
       "  </thead>\n",
       "  <tbody>\n",
       "    <tr>\n",
       "      <th>0</th>\n",
       "      <td>NaN</td>\n",
       "      <td>17-X4762181</td>\n",
       "      <td>Person</td>\n",
       "      <td>NaN</td>\n",
       "      <td>1</td>\n",
       "      <td>1/1/96</td>\n",
       "      <td>1/1/96</td>\n",
       "      <td>800</td>\n",
       "      <td>Sex Offenses</td>\n",
       "      <td>1</td>\n",
       "      <td>Rape</td>\n",
       "      <td>NaN</td>\n",
       "      <td>NaN</td>\n",
       "      <td>NaN</td>\n",
       "      <td>NaN</td>\n",
       "      <td>1/26/17</td>\n",
       "      <td>1/1/17</td>\n",
       "    </tr>\n",
       "  </tbody>\n",
       "</table>\n",
       "</div>"
      ],
      "text/plain": [
       "  address  case_number crime_against neighborhood  number_of_records  \\\n",
       "0     NaN  17-X4762181        Person          NaN                  1   \n",
       "\n",
       "  occur_date occur_month_year  occur_time offense_category  offense_count  \\\n",
       "0     1/1/96           1/1/96         800     Sex Offenses              1   \n",
       "\n",
       "  offense_type  open_data_lat  open_data_lon  open_data_x  open_data_y  \\\n",
       "0         Rape            NaN            NaN          NaN          NaN   \n",
       "\n",
       "  report_date report_month_year  \n",
       "0     1/26/17            1/1/17  "
      ]
     },
     "execution_count": 2,
     "metadata": {},
     "output_type": "execute_result"
    }
   ],
   "source": [
    "# Reference the file where the CSV is located\n",
    "path = os.path.join(\"Resources\", \"crime_incident_data2017.csv\")\n",
    "\n",
    "df = pd.read_csv(path).rename(columns=lambda s:s.lower().replace(\" \", \"_\"))\n",
    "df.head(1)\n",
    "\n",
    "# Import the data into a Pandas DataFrame"
   ]
  },
  {
   "cell_type": "code",
   "execution_count": 3,
   "metadata": {},
   "outputs": [
    {
     "data": {
      "text/plain": [
       "(41032, 17)"
      ]
     },
     "execution_count": 3,
     "metadata": {},
     "output_type": "execute_result"
    }
   ],
   "source": [
    "df.shape"
   ]
  },
  {
   "cell_type": "code",
   "execution_count": 4,
   "metadata": {},
   "outputs": [
    {
     "data": {
      "text/html": [
       "<div>\n",
       "<style scoped>\n",
       "    .dataframe tbody tr th:only-of-type {\n",
       "        vertical-align: middle;\n",
       "    }\n",
       "\n",
       "    .dataframe tbody tr th {\n",
       "        vertical-align: top;\n",
       "    }\n",
       "\n",
       "    .dataframe thead th {\n",
       "        text-align: right;\n",
       "    }\n",
       "</style>\n",
       "<table border=\"1\" class=\"dataframe\">\n",
       "  <thead>\n",
       "    <tr style=\"text-align: right;\">\n",
       "      <th></th>\n",
       "      <th>neighborhood</th>\n",
       "      <th>occur_date</th>\n",
       "      <th>occur_time</th>\n",
       "      <th>offense_category</th>\n",
       "      <th>offense_count</th>\n",
       "      <th>offense_type</th>\n",
       "      <th>report_date</th>\n",
       "    </tr>\n",
       "  </thead>\n",
       "  <tbody>\n",
       "    <tr>\n",
       "      <th>1</th>\n",
       "      <td>Centennial</td>\n",
       "      <td>1/20/00</td>\n",
       "      <td>1615</td>\n",
       "      <td>Fraud Offenses</td>\n",
       "      <td>1</td>\n",
       "      <td>Identity Theft</td>\n",
       "      <td>1/20/17</td>\n",
       "    </tr>\n",
       "    <tr>\n",
       "      <th>2</th>\n",
       "      <td>Montavilla</td>\n",
       "      <td>12/1/03</td>\n",
       "      <td>800</td>\n",
       "      <td>Fraud Offenses</td>\n",
       "      <td>1</td>\n",
       "      <td>False Pretenses/Swindle/Confidence Game</td>\n",
       "      <td>1/9/17</td>\n",
       "    </tr>\n",
       "    <tr>\n",
       "      <th>3</th>\n",
       "      <td>Southwest Hills</td>\n",
       "      <td>1/1/10</td>\n",
       "      <td>0</td>\n",
       "      <td>Fraud Offenses</td>\n",
       "      <td>1</td>\n",
       "      <td>Identity Theft</td>\n",
       "      <td>1/5/17</td>\n",
       "    </tr>\n",
       "    <tr>\n",
       "      <th>4</th>\n",
       "      <td>Southwest Hills</td>\n",
       "      <td>1/1/10</td>\n",
       "      <td>0</td>\n",
       "      <td>Larceny Offenses</td>\n",
       "      <td>1</td>\n",
       "      <td>All Other Larceny</td>\n",
       "      <td>1/5/17</td>\n",
       "    </tr>\n",
       "    <tr>\n",
       "      <th>5</th>\n",
       "      <td>King</td>\n",
       "      <td>11/28/10</td>\n",
       "      <td>1612</td>\n",
       "      <td>Fraud Offenses</td>\n",
       "      <td>1</td>\n",
       "      <td>Identity Theft</td>\n",
       "      <td>1/3/17</td>\n",
       "    </tr>\n",
       "    <tr>\n",
       "      <th>...</th>\n",
       "      <td>...</td>\n",
       "      <td>...</td>\n",
       "      <td>...</td>\n",
       "      <td>...</td>\n",
       "      <td>...</td>\n",
       "      <td>...</td>\n",
       "      <td>...</td>\n",
       "    </tr>\n",
       "    <tr>\n",
       "      <th>41026</th>\n",
       "      <td>Parkrose</td>\n",
       "      <td>8/31/17</td>\n",
       "      <td>2005</td>\n",
       "      <td>Drug/Narcotic Offenses</td>\n",
       "      <td>1</td>\n",
       "      <td>Drug/Narcotic Violations</td>\n",
       "      <td>8/31/17</td>\n",
       "    </tr>\n",
       "    <tr>\n",
       "      <th>41027</th>\n",
       "      <td>Sumner</td>\n",
       "      <td>8/31/17</td>\n",
       "      <td>535</td>\n",
       "      <td>Drug/Narcotic Offenses</td>\n",
       "      <td>1</td>\n",
       "      <td>Drug/Narcotic Violations</td>\n",
       "      <td>8/31/17</td>\n",
       "    </tr>\n",
       "    <tr>\n",
       "      <th>41028</th>\n",
       "      <td>Hazelwood</td>\n",
       "      <td>8/31/17</td>\n",
       "      <td>1619</td>\n",
       "      <td>Prostitution Offenses</td>\n",
       "      <td>1</td>\n",
       "      <td>Prostitution</td>\n",
       "      <td>8/31/17</td>\n",
       "    </tr>\n",
       "    <tr>\n",
       "      <th>41029</th>\n",
       "      <td>Hazelwood</td>\n",
       "      <td>8/31/17</td>\n",
       "      <td>1959</td>\n",
       "      <td>Prostitution Offenses</td>\n",
       "      <td>1</td>\n",
       "      <td>Prostitution</td>\n",
       "      <td>8/31/17</td>\n",
       "    </tr>\n",
       "    <tr>\n",
       "      <th>41031</th>\n",
       "      <td>Foster-Powell</td>\n",
       "      <td>8/31/17</td>\n",
       "      <td>2354</td>\n",
       "      <td>Weapon Law Violations</td>\n",
       "      <td>1</td>\n",
       "      <td>Weapons Law Violations</td>\n",
       "      <td>8/31/17</td>\n",
       "    </tr>\n",
       "  </tbody>\n",
       "</table>\n",
       "<p>39712 rows × 7 columns</p>\n",
       "</div>"
      ],
      "text/plain": [
       "          neighborhood occur_date  occur_time        offense_category  \\\n",
       "1           Centennial    1/20/00        1615          Fraud Offenses   \n",
       "2           Montavilla    12/1/03         800          Fraud Offenses   \n",
       "3      Southwest Hills     1/1/10           0          Fraud Offenses   \n",
       "4      Southwest Hills     1/1/10           0        Larceny Offenses   \n",
       "5                 King   11/28/10        1612          Fraud Offenses   \n",
       "...                ...        ...         ...                     ...   \n",
       "41026         Parkrose    8/31/17        2005  Drug/Narcotic Offenses   \n",
       "41027           Sumner    8/31/17         535  Drug/Narcotic Offenses   \n",
       "41028        Hazelwood    8/31/17        1619   Prostitution Offenses   \n",
       "41029        Hazelwood    8/31/17        1959   Prostitution Offenses   \n",
       "41031    Foster-Powell    8/31/17        2354   Weapon Law Violations   \n",
       "\n",
       "       offense_count                             offense_type report_date  \n",
       "1                  1                           Identity Theft     1/20/17  \n",
       "2                  1  False Pretenses/Swindle/Confidence Game      1/9/17  \n",
       "3                  1                           Identity Theft      1/5/17  \n",
       "4                  1                        All Other Larceny      1/5/17  \n",
       "5                  1                           Identity Theft      1/3/17  \n",
       "...              ...                                      ...         ...  \n",
       "41026              1                 Drug/Narcotic Violations     8/31/17  \n",
       "41027              1                 Drug/Narcotic Violations     8/31/17  \n",
       "41028              1                             Prostitution     8/31/17  \n",
       "41029              1                             Prostitution     8/31/17  \n",
       "41031              1                   Weapons Law Violations     8/31/17  \n",
       "\n",
       "[39712 rows x 7 columns]"
      ]
     },
     "execution_count": 4,
     "metadata": {},
     "output_type": "execute_result"
    }
   ],
   "source": [
    "df[[\"neighborhood\", \n",
    "    \"occur_date\", \n",
    "    \"occur_time\", \n",
    "    \"offense_category\", \n",
    "    \"offense_count\",\n",
    "    \"offense_type\", \n",
    "    \"report_date\"\n",
    "   ]].dropna()"
   ]
  },
  {
   "cell_type": "code",
   "execution_count": 5,
   "metadata": {},
   "outputs": [
    {
     "data": {
      "text/plain": [
       "Index(['address', 'case_number', 'crime_against', 'neighborhood',\n",
       "       'number_of_records', 'occur_date', 'occur_month_year', 'occur_time',\n",
       "       'offense_category', 'offense_count', 'offense_type', 'open_data_lat',\n",
       "       'open_data_lon', 'open_data_x', 'open_data_y', 'report_date',\n",
       "       'report_month_year'],\n",
       "      dtype='object')"
      ]
     },
     "execution_count": 5,
     "metadata": {},
     "output_type": "execute_result"
    }
   ],
   "source": [
    "df.columns"
   ]
  },
  {
   "cell_type": "code",
   "execution_count": 6,
   "metadata": {},
   "outputs": [
    {
     "data": {
      "text/plain": [
       "array(['Motor Vehicle Theft'], dtype=object)"
      ]
     },
     "execution_count": 6,
     "metadata": {},
     "output_type": "execute_result"
    }
   ],
   "source": [
    "df.loc[df[\"offense_count\"]>=2, \"offense_category\"].unique()"
   ]
  },
  {
   "cell_type": "code",
   "execution_count": 7,
   "metadata": {},
   "outputs": [
    {
     "data": {
      "text/plain": [
       "address               object\n",
       "case_number           object\n",
       "crime_against         object\n",
       "neighborhood          object\n",
       "number_of_records      int64\n",
       "occur_date            object\n",
       "occur_month_year      object\n",
       "occur_time             int64\n",
       "offense_category      object\n",
       "offense_count          int64\n",
       "offense_type          object\n",
       "open_data_lat        float64\n",
       "open_data_lon        float64\n",
       "open_data_x          float64\n",
       "open_data_y          float64\n",
       "report_date           object\n",
       "report_month_year     object\n",
       "dtype: object"
      ]
     },
     "execution_count": 7,
     "metadata": {},
     "output_type": "execute_result"
    }
   ],
   "source": [
    "df.dtypes"
   ]
  },
  {
   "cell_type": "code",
   "execution_count": null,
   "metadata": {},
   "outputs": [],
   "source": []
  },
  {
   "cell_type": "code",
   "execution_count": 8,
   "metadata": {},
   "outputs": [],
   "source": [
    "# look for missing values"
   ]
  },
  {
   "cell_type": "code",
   "execution_count": 9,
   "metadata": {},
   "outputs": [],
   "source": [
    "# drop null rows"
   ]
  },
  {
   "cell_type": "code",
   "execution_count": 10,
   "metadata": {},
   "outputs": [],
   "source": [
    "# verify counts"
   ]
  },
  {
   "cell_type": "code",
   "execution_count": 11,
   "metadata": {
    "scrolled": true
   },
   "outputs": [],
   "source": [
    "# Check to see if there are any values with mispelled or similar values in \"Offense Type\""
   ]
  },
  {
   "cell_type": "code",
   "execution_count": 12,
   "metadata": {},
   "outputs": [],
   "source": [
    "# Combine similar offenses"
   ]
  },
  {
   "cell_type": "code",
   "execution_count": 13,
   "metadata": {},
   "outputs": [],
   "source": [
    "# Check to see if you comnbined similar offenses correctly in \"Offense Type\"."
   ]
  },
  {
   "cell_type": "code",
   "execution_count": 14,
   "metadata": {},
   "outputs": [],
   "source": [
    "# Create a new DataFrame that looks into a specific neighborhood"
   ]
  }
 ],
 "metadata": {
  "kernelspec": {
   "display_name": "pipenv_hw",
   "language": "python",
   "name": "python3"
  },
  "language_info": {
   "codemirror_mode": {
    "name": "ipython",
    "version": 3
   },
   "file_extension": ".py",
   "mimetype": "text/x-python",
   "name": "python",
   "nbconvert_exporter": "python",
   "pygments_lexer": "ipython3",
   "version": "3.7.5"
  }
 },
 "nbformat": 4,
 "nbformat_minor": 4
}
